{
 "cells": [
  {
   "cell_type": "markdown",
   "metadata": {},
   "source": [
    "## Table of content:\n",
    "- <a href = '#Import libraries'>Import libraries</a>\n",
    "- <a href = '#Read Dataset'>Read Dataset</a>\n",
    "- <a href = '#Preprocessing'>Preprocessing</a>\n",
    "- <a href = '#Models'>Models</a>"
   ]
  },
  {
   "cell_type": "markdown",
   "metadata": {},
   "source": [
    "# Import libraries"
   ]
  },
  {
   "cell_type": "code",
   "execution_count": 297,
   "metadata": {},
   "outputs": [],
   "source": [
    "import matplotlib.pyplot as plt\n",
    "import numpy as np\n",
    "import pandas as pd\n",
    "\n",
    "from sklearn.linear_model import LogisticRegression\n",
    "from sklearn.metrics import accuracy_score, classification_report, confusion_matrix, log_loss\n",
    "from sklearn.model_selection import GridSearchCV, train_test_split\n",
    "from sklearn.neighbors import KNeighborsClassifier\n",
    "from sklearn.pipeline import make_pipeline\n",
    "from sklearn.preprocessing import StandardScaler\n",
    "from sklearn.svm import SVC\n",
    "from sklearn.tree import DecisionTreeClassifier\n",
    "\n",
    "import seaborn as sns"
   ]
  },
  {
   "cell_type": "markdown",
   "metadata": {},
   "source": [
    "# Read Dataset\n",
    "\n",
    "<a href = 'https://www.kaggle.com/rashikrahmanpritom/heart-attack-analysis-prediction-dataset'>Link to the dataset in Kaggle.</a>\n",
    "  \n",
    "- Age: Age of the patient\n",
    "- Sex: Sex of the patient\n",
    "- cp: Chest Pain type chest pain type\n",
    "    - Value 1: typical angina\n",
    "    - Value 2: atypical angina\n",
    "    - Value 3: non-anginal pain\n",
    "    - Value 4: asymptomatic\n",
    "- trtbps: resting blood pressure (in mm Hg)\n",
    "- chol: cholesterol in mg/dl fetched via BMI sensor\n",
    "- fbs: (fasting blood sugar > 120 mg/dl)\n",
    "    - Value 0: false\n",
    "    - Value 1: true\n",
    "- rest_ecg : resting electrocardiographic results\n",
    "    - Value 0: normal\n",
    "    - Value 1: having ST-T wave abnormality (T wave inversions and/or ST elevation or depression of > 0.05 mV)\n",
    "    - Value 2: showing probable or definite left ventricular hypertrophy by Estes' criteria\n",
    "- thalach: maximum heart rate achieved\n",
    "- exang: exercise induced angina\n",
    "    - Value 0: no\n",
    "    - Value 1: yes\n",
    "- oldpeak: Previous peak    \n",
    "- slp: Slope    \n",
    "- caa: number of major vessels ~ (0-4)\n",
    "- thall: Thalium Stress Test result ~ (0-3)\n",
    "- target: \n",
    "    - Value 0: less chance of heart attack\n",
    "    - Value 1: more chance of heart attack"
   ]
  },
  {
   "cell_type": "code",
   "execution_count": 298,
   "metadata": {},
   "outputs": [
    {
     "name": "stdout",
     "output_type": "stream",
     "text": [
      "Shape of dataset: (303, 14)\n"
     ]
    },
    {
     "data": {
      "text/html": [
       "<div>\n",
       "<style scoped>\n",
       "    .dataframe tbody tr th:only-of-type {\n",
       "        vertical-align: middle;\n",
       "    }\n",
       "\n",
       "    .dataframe tbody tr th {\n",
       "        vertical-align: top;\n",
       "    }\n",
       "\n",
       "    .dataframe thead th {\n",
       "        text-align: right;\n",
       "    }\n",
       "</style>\n",
       "<table border=\"1\" class=\"dataframe\">\n",
       "  <thead>\n",
       "    <tr style=\"text-align: right;\">\n",
       "      <th></th>\n",
       "      <th>age</th>\n",
       "      <th>sex</th>\n",
       "      <th>cp</th>\n",
       "      <th>trtbps</th>\n",
       "      <th>chol</th>\n",
       "      <th>fbs</th>\n",
       "      <th>restecg</th>\n",
       "      <th>thalachh</th>\n",
       "      <th>exng</th>\n",
       "      <th>oldpeak</th>\n",
       "      <th>slp</th>\n",
       "      <th>caa</th>\n",
       "      <th>thall</th>\n",
       "      <th>output</th>\n",
       "    </tr>\n",
       "  </thead>\n",
       "  <tbody>\n",
       "    <tr>\n",
       "      <th>0</th>\n",
       "      <td>63</td>\n",
       "      <td>1</td>\n",
       "      <td>3</td>\n",
       "      <td>145</td>\n",
       "      <td>233</td>\n",
       "      <td>1</td>\n",
       "      <td>0</td>\n",
       "      <td>150</td>\n",
       "      <td>0</td>\n",
       "      <td>2.3</td>\n",
       "      <td>0</td>\n",
       "      <td>0</td>\n",
       "      <td>1</td>\n",
       "      <td>1</td>\n",
       "    </tr>\n",
       "    <tr>\n",
       "      <th>1</th>\n",
       "      <td>37</td>\n",
       "      <td>1</td>\n",
       "      <td>2</td>\n",
       "      <td>130</td>\n",
       "      <td>250</td>\n",
       "      <td>0</td>\n",
       "      <td>1</td>\n",
       "      <td>187</td>\n",
       "      <td>0</td>\n",
       "      <td>3.5</td>\n",
       "      <td>0</td>\n",
       "      <td>0</td>\n",
       "      <td>2</td>\n",
       "      <td>1</td>\n",
       "    </tr>\n",
       "    <tr>\n",
       "      <th>2</th>\n",
       "      <td>41</td>\n",
       "      <td>0</td>\n",
       "      <td>1</td>\n",
       "      <td>130</td>\n",
       "      <td>204</td>\n",
       "      <td>0</td>\n",
       "      <td>0</td>\n",
       "      <td>172</td>\n",
       "      <td>0</td>\n",
       "      <td>1.4</td>\n",
       "      <td>2</td>\n",
       "      <td>0</td>\n",
       "      <td>2</td>\n",
       "      <td>1</td>\n",
       "    </tr>\n",
       "    <tr>\n",
       "      <th>3</th>\n",
       "      <td>56</td>\n",
       "      <td>1</td>\n",
       "      <td>1</td>\n",
       "      <td>120</td>\n",
       "      <td>236</td>\n",
       "      <td>0</td>\n",
       "      <td>1</td>\n",
       "      <td>178</td>\n",
       "      <td>0</td>\n",
       "      <td>0.8</td>\n",
       "      <td>2</td>\n",
       "      <td>0</td>\n",
       "      <td>2</td>\n",
       "      <td>1</td>\n",
       "    </tr>\n",
       "    <tr>\n",
       "      <th>4</th>\n",
       "      <td>57</td>\n",
       "      <td>0</td>\n",
       "      <td>0</td>\n",
       "      <td>120</td>\n",
       "      <td>354</td>\n",
       "      <td>0</td>\n",
       "      <td>1</td>\n",
       "      <td>163</td>\n",
       "      <td>1</td>\n",
       "      <td>0.6</td>\n",
       "      <td>2</td>\n",
       "      <td>0</td>\n",
       "      <td>2</td>\n",
       "      <td>1</td>\n",
       "    </tr>\n",
       "  </tbody>\n",
       "</table>\n",
       "</div>"
      ],
      "text/plain": [
       "   age  sex  cp  trtbps  chol  fbs  restecg  thalachh  exng  oldpeak  slp  \\\n",
       "0   63    1   3     145   233    1        0       150     0      2.3    0   \n",
       "1   37    1   2     130   250    0        1       187     0      3.5    0   \n",
       "2   41    0   1     130   204    0        0       172     0      1.4    2   \n",
       "3   56    1   1     120   236    0        1       178     0      0.8    2   \n",
       "4   57    0   0     120   354    0        1       163     1      0.6    2   \n",
       "\n",
       "   caa  thall  output  \n",
       "0    0      1       1  \n",
       "1    0      2       1  \n",
       "2    0      2       1  \n",
       "3    0      2       1  \n",
       "4    0      2       1  "
      ]
     },
     "execution_count": 298,
     "metadata": {},
     "output_type": "execute_result"
    }
   ],
   "source": [
    "heart_attack = pd.read_csv('heart.csv')\n",
    "print(f\"Shape of dataset: {heart_attack.shape}\")\n",
    "heart_attack.head()"
   ]
  },
  {
   "cell_type": "code",
   "execution_count": 299,
   "metadata": {},
   "outputs": [
    {
     "name": "stdout",
     "output_type": "stream",
     "text": [
      "<class 'pandas.core.frame.DataFrame'>\n",
      "RangeIndex: 303 entries, 0 to 302\n",
      "Data columns (total 14 columns):\n",
      " #   Column    Non-Null Count  Dtype  \n",
      "---  ------    --------------  -----  \n",
      " 0   age       303 non-null    int64  \n",
      " 1   sex       303 non-null    int64  \n",
      " 2   cp        303 non-null    int64  \n",
      " 3   trtbps    303 non-null    int64  \n",
      " 4   chol      303 non-null    int64  \n",
      " 5   fbs       303 non-null    int64  \n",
      " 6   restecg   303 non-null    int64  \n",
      " 7   thalachh  303 non-null    int64  \n",
      " 8   exng      303 non-null    int64  \n",
      " 9   oldpeak   303 non-null    float64\n",
      " 10  slp       303 non-null    int64  \n",
      " 11  caa       303 non-null    int64  \n",
      " 12  thall     303 non-null    int64  \n",
      " 13  output    303 non-null    int64  \n",
      "dtypes: float64(1), int64(13)\n",
      "memory usage: 33.3 KB\n"
     ]
    }
   ],
   "source": [
    "heart_attack.info() "
   ]
  },
  {
   "cell_type": "markdown",
   "metadata": {},
   "source": [
    "# Preprocessing"
   ]
  },
  {
   "cell_type": "code",
   "execution_count": 300,
   "metadata": {},
   "outputs": [
    {
     "name": "stdout",
     "output_type": "stream",
     "text": [
      "Shape of dataset after removing duplicate rows: (302, 14)\n"
     ]
    }
   ],
   "source": [
    "heart_attack.drop_duplicates(inplace = True)\n",
    "heart_attack.reset_index(drop = True, inplace= True)\n",
    "\n",
    "print(f\"Shape of dataset after removing duplicate rows: {heart_attack.shape}\")"
   ]
  },
  {
   "cell_type": "code",
   "execution_count": 301,
   "metadata": {},
   "outputs": [],
   "source": [
    "def lower_upper(x):\n",
    "    Q1 = np.percentile(heart_attack[x], 25)\n",
    "    Q3 = np.percentile(heart_attack[x], 75)\n",
    "    IQR = Q3 - Q1\n",
    "    lower = Q1 - 1.5 * IQR\n",
    "    upper = Q3 + 1.5 * IQR\n",
    "    return lower, upper\n",
    "\n",
    "def stat_properties(x):\n",
    "    lower, upper = lower_upper(x)\n",
    "    print(f'Statistical properties for {x} is:')\n",
    "    print(f\"lower quartile is: {lower:0.2f} and upper quartile is: {upper:0.2f}.\")\n",
    "    print(f\"mean is: {heart_attack[x].mean():0.2f}, std is: {heart_attack[x].std():0.2f}, skewness is: {heart_attack[x].skew():0.2f}, and kurtosis is: {heart_attack[x].kurtosis():0.2f}.\")\n",
    "    print(\"-\" * 20)"
   ]
  },
  {
   "cell_type": "code",
   "execution_count": 302,
   "metadata": {},
   "outputs": [
    {
     "name": "stdout",
     "output_type": "stream",
     "text": [
      "Statistical properties for age is:\n",
      "lower quartile is: 28.50 and upper quartile is: 80.50.\n",
      "mean is: 54.42, std is: 9.05, skewness is: -0.20, and kurtosis is: -0.53.\n",
      "--------------------\n",
      "Statistical properties for trtbps is:\n",
      "lower quartile is: 90.00 and upper quartile is: 170.00.\n",
      "mean is: 131.60, std is: 17.56, skewness is: 0.72, and kurtosis is: 0.92.\n",
      "--------------------\n",
      "Statistical properties for chol is:\n",
      "lower quartile is: 115.38 and upper quartile is: 370.38.\n",
      "mean is: 246.50, std is: 51.75, skewness is: 1.15, and kurtosis is: 4.54.\n",
      "--------------------\n",
      "Statistical properties for thalachh is:\n",
      "lower quartile is: 84.12 and upper quartile is: 215.12.\n",
      "mean is: 149.57, std is: 22.90, skewness is: -0.53, and kurtosis is: -0.06.\n",
      "--------------------\n",
      "Statistical properties for oldpeak is:\n",
      "lower quartile is: -2.40 and upper quartile is: 4.00.\n",
      "mean is: 1.04, std is: 1.16, skewness is: 1.27, and kurtosis is: 1.57.\n",
      "--------------------\n"
     ]
    }
   ],
   "source": [
    "continuous_feature = ['age', 'trtbps', 'chol', 'thalachh', 'oldpeak']\n",
    "\n",
    "for i in continuous_feature:\n",
    "    stat_properties(i)"
   ]
  },
  {
   "cell_type": "code",
   "execution_count": 303,
   "metadata": {
    "scrolled": true
   },
   "outputs": [
    {
     "data": {
      "image/png": "[encoded data removed]",
      "text/plain": [
       "<Figure size 864x504 with 5 Axes>"
      ]
     },
     "metadata": {
      "needs_background": "light"
     },
     "output_type": "display_data"
    }
   ],
   "source": [
    "fig, ax = plt.subplots(len(continuous_feature), 1, figsize = (12,7))\n",
    "\n",
    "for i,j in zip(range(0, len(continuous_feature)), continuous_feature):\n",
    "    sns.boxplot(ax = ax[i], x = heart_attack[j])\n",
    "plt.subplots_adjust(hspace = 0.8)    "
   ]
  },
  {
   "cell_type": "code",
   "execution_count": 304,
   "metadata": {},
   "outputs": [],
   "source": [
    "# Removing the outliers.\n",
    "\n",
    "heart_attack_without_outliers = heart_attack.copy()\n",
    "\n",
    "outliers_index = list(np.where((heart_attack['trtbps']> 180) | \n",
    "                          (heart_attack['chol']> 500) | \n",
    "                          (heart_attack['oldpeak']> 5.0)\n",
    "                         )[0])\n",
    "\n",
    "heart_attack_without_outliers.drop(index = outliers_index, inplace = True)\n",
    "heart_attack_without_outliers.reset_index(drop = True, inplace = True)"
   ]
  },
  {
   "cell_type": "code",
   "execution_count": 305,
   "metadata": {},
   "outputs": [
    {
     "data": {
      "image/png": "[encoded data removed]",
      "text/plain": [
       "<Figure size 864x504 with 5 Axes>"
      ]
     },
     "metadata": {
      "needs_background": "light"
     },
     "output_type": "display_data"
    }
   ],
   "source": [
    "fig, ax = plt.subplots(len(continuous_feature), 1, figsize = (12,7))\n",
    "\n",
    "for i,j in zip(range(0, len(continuous_feature)), continuous_feature):\n",
    "    sns.boxplot(ax = ax[i], x = heart_attack_without_outliers[j])\n",
    "plt.subplots_adjust(hspace = 0.8) "
   ]
  },
  {
   "cell_type": "markdown",
   "metadata": {},
   "source": [
    "# Models"
   ]
  },
  {
   "cell_type": "code",
   "execution_count": 306,
   "metadata": {},
   "outputs": [],
   "source": [
    "X = np.asarray(heart_attack_without_outliers.drop(columns = ['output']))\n",
    "y = np.asarray(heart_attack_without_outliers['output'])\n",
    "X_train, X_test, y_train, y_test = train_test_split(X, y, test_size = 0.2, random_state = 0)"
   ]
  },
  {
   "cell_type": "code",
   "execution_count": 307,
   "metadata": {},
   "outputs": [],
   "source": [
    "scaler = StandardScaler().fit(X_train)\n",
    "X_train_scaled = scaler.transform(X_train)\n",
    "X_test_scaled = scaler.transform(X_test)"
   ]
  },
  {
   "cell_type": "code",
   "execution_count": 308,
   "metadata": {},
   "outputs": [
    {
     "name": "stdout",
     "output_type": "stream",
     "text": [
      "Best parameter after SVM tuning: {'C': 0.1, 'kernel': 'linear'}\n",
      "----------\n",
      "SVM Classification report:               precision    recall  f1-score   support\n",
      "\n",
      "           0       0.96      0.71      0.81        31\n",
      "           1       0.76      0.97      0.85        29\n",
      "\n",
      "    accuracy                           0.83        60\n",
      "   macro avg       0.86      0.84      0.83        60\n",
      "weighted avg       0.86      0.83      0.83        60\n",
      "\n",
      "SVM Accuracy: 0.83\n",
      "SVM Cross-entropy loss: 5.76\n"
     ]
    }
   ],
   "source": [
    "param_grid_svm = [{'C': [0.1,1,10],\n",
    "              'kernel': ['linear', 'poly', 'rbf']\n",
    "              }]\n",
    "grid_svm = GridSearchCV(SVC(random_state = 0), param_grid = param_grid_svm, refit = True, n_jobs = -1)\n",
    "grid_svm.fit(X_train_scaled, y_train)\n",
    "\n",
    "print(f\"Best parameter after SVM tuning: {grid_svm.best_params_}\")\n",
    "print('-'*10)\n",
    "\n",
    "y_pred_svm = grid_svm.predict(X_test_scaled)\n",
    "\n",
    "print(f\"SVM Classification report: {classification_report(y_test, y_pred_svm)}\")\n",
    "print(f\"SVM Accuracy: {accuracy_score(y_test, y_pred_svm):0.2f}\")\n",
    "print(f\"SVM Cross-entropy loss: {log_loss(y_test, y_pred_svm):0.2f}\")"
   ]
  },
  {
   "cell_type": "code",
   "execution_count": 309,
   "metadata": {},
   "outputs": [
    {
     "name": "stdout",
     "output_type": "stream",
     "text": [
      "Best parameter after KNN tuning: {'n_neighbors': 5, 'weights': 'uniform'}\n",
      "----------\n",
      "KNN Classification report:               precision    recall  f1-score   support\n",
      "\n",
      "           0       0.96      0.74      0.84        31\n",
      "           1       0.78      0.97      0.86        29\n",
      "\n",
      "    accuracy                           0.85        60\n",
      "   macro avg       0.87      0.85      0.85        60\n",
      "weighted avg       0.87      0.85      0.85        60\n",
      "\n",
      "KNN Accuracy: 0.85\n",
      "KNN Cross-entropy loss: 5.18\n"
     ]
    }
   ],
   "source": [
    "param_grid_knn = [{'weights': ['uniform', 'distance'],\n",
    "                   'n_neighbors': [3,5,7,9]\n",
    "              }]\n",
    "grid_knn = GridSearchCV(KNeighborsClassifier(), param_grid = param_grid_knn, \n",
    "                        refit = True, n_jobs = -1)\n",
    "grid_knn.fit(X_train_scaled, y_train)\n",
    "\n",
    "print(f\"Best parameter after KNN tuning: {grid_knn.best_params_}\")\n",
    "print('-'*10)\n",
    "\n",
    "y_pred_knn = grid_knn.predict(X_test_scaled)\n",
    "\n",
    "print(f\"KNN Classification report: {classification_report(y_test, y_pred_knn)}\")\n",
    "print(f\"KNN Accuracy: {accuracy_score(y_test, y_pred_knn):0.2f}\")\n",
    "print(f\"KNN Cross-entropy loss: {log_loss(y_test, y_pred_knn):0.2f}\")"
   ]
  },
  {
   "cell_type": "code",
   "execution_count": 310,
   "metadata": {},
   "outputs": [
    {
     "name": "stdout",
     "output_type": "stream",
     "text": [
      "Best parameter after DeciTree tuning: {'criterion': 'gini', 'max_depth': 3}\n",
      "----------\n",
      "DeciTree Classification report:               precision    recall  f1-score   support\n",
      "\n",
      "           0       0.79      0.74      0.77        31\n",
      "           1       0.74      0.79      0.77        29\n",
      "\n",
      "    accuracy                           0.77        60\n",
      "   macro avg       0.77      0.77      0.77        60\n",
      "weighted avg       0.77      0.77      0.77        60\n",
      "\n",
      "DeciTree Accuracy: 0.77\n",
      "DeciTree Cross-entropy loss: 8.06\n"
     ]
    }
   ],
   "source": [
    "param_grid_dtree = [{'criterion': ['gini', 'entropy'],\n",
    "                     'max_depth': [3,5,7],\n",
    "              }]\n",
    "grid_dtree = GridSearchCV(DecisionTreeClassifier(random_state = 0), param_grid = param_grid_dtree, \n",
    "                        refit = True, n_jobs = -1)\n",
    "grid_dtree.fit(X_train_scaled, y_train)\n",
    "\n",
    "print(f\"Best parameter after DeciTree tuning: {grid_dtree.best_params_}\")\n",
    "print('-'*10)\n",
    "\n",
    "y_pred_dtree = grid_dtree.predict(X_test_scaled)\n",
    "\n",
    "print(f\"DeciTree Classification report: {classification_report(y_test, y_pred_dtree)}\")\n",
    "print(f\"DeciTree Accuracy: {accuracy_score(y_test, y_pred_dtree):0.2f}\")\n",
    "print(f\"DeciTree Cross-entropy loss: {log_loss(y_test, y_pred_dtree):0.2f}\")"
   ]
  },
  {
   "cell_type": "code",
   "execution_count": 311,
   "metadata": {},
   "outputs": [
    {
     "name": "stdout",
     "output_type": "stream",
     "text": [
      "Best parameter after LogisticRegression tuning: {'C': 0.1, 'penalty': 'l1', 'solver': 'liblinear'}\n",
      "----------\n",
      "LogisticRegression Classification report:               precision    recall  f1-score   support\n",
      "\n",
      "           0       0.96      0.77      0.86        31\n",
      "           1       0.80      0.97      0.88        29\n",
      "\n",
      "    accuracy                           0.87        60\n",
      "   macro avg       0.88      0.87      0.87        60\n",
      "weighted avg       0.88      0.87      0.87        60\n",
      "\n",
      "LogisticRegression Accuracy: 0.87\n",
      "LogisticRegression Cross-entropy loss: 4.61\n"
     ]
    },
    {
     "name": "stderr",
     "output_type": "stream",
     "text": [
      "C:\\Users\\Alireza\\Anaconda3\\lib\\site-packages\\sklearn\\model_selection\\_search.py:925: UserWarning: One or more of the test scores are non-finite: [       nan 0.82677305 0.81843972 0.8141844         nan        nan\n",
      "        nan 0.81843972 0.82269504 0.82269504        nan        nan\n",
      "        nan 0.81843972 0.81843972 0.81843972        nan        nan]\n",
      "  category=UserWarning\n"
     ]
    }
   ],
   "source": [
    "param_lr = [{'penalty': ['l1','l2','elasticnet'],\n",
    "             'C': [0.1,1,10],\n",
    "             'solver': ['lbfgs','liblinear']\n",
    "              }]\n",
    "grid_lr = GridSearchCV(LogisticRegression(random_state = 0), param_grid = param_lr, \n",
    "                        refit = True, n_jobs = -1)\n",
    "grid_lr.fit(X_train_scaled, y_train)\n",
    "\n",
    "print(f\"Best parameter after LogisticRegression tuning: {grid_lr.best_params_}\")\n",
    "print('-'*10)\n",
    "\n",
    "y_pred_lr = grid_lr.predict(X_test_scaled)\n",
    "\n",
    "print(f\"LogisticRegression Classification report: {classification_report(y_test, y_pred_lr)}\")\n",
    "print(f\"LogisticRegression Accuracy: {accuracy_score(y_test, y_pred_lr):0.2f}\")\n",
    "print(f\"LogisticRegression Cross-entropy loss: {log_loss(y_test, y_pred_lr):0.2f}\")"
   ]
  },
  {
   "cell_type": "code",
   "execution_count": 312,
   "metadata": {},
   "outputs": [
    {
     "data": {
      "text/html": [
       "<div>\n",
       "<style scoped>\n",
       "    .dataframe tbody tr th:only-of-type {\n",
       "        vertical-align: middle;\n",
       "    }\n",
       "\n",
       "    .dataframe tbody tr th {\n",
       "        vertical-align: top;\n",
       "    }\n",
       "\n",
       "    .dataframe thead th {\n",
       "        text-align: right;\n",
       "    }\n",
       "</style>\n",
       "<table border=\"1\" class=\"dataframe\">\n",
       "  <thead>\n",
       "    <tr style=\"text-align: right;\">\n",
       "      <th></th>\n",
       "      <th>Accuracy</th>\n",
       "      <th>Cross-entropy loss</th>\n",
       "    </tr>\n",
       "  </thead>\n",
       "  <tbody>\n",
       "    <tr>\n",
       "      <th>LogisticRegression</th>\n",
       "      <td>0.866667</td>\n",
       "      <td>4.605263</td>\n",
       "    </tr>\n",
       "    <tr>\n",
       "      <th>KNeighborsClassifier</th>\n",
       "      <td>0.850000</td>\n",
       "      <td>5.180923</td>\n",
       "    </tr>\n",
       "    <tr>\n",
       "      <th>SVM</th>\n",
       "      <td>0.833333</td>\n",
       "      <td>5.756583</td>\n",
       "    </tr>\n",
       "    <tr>\n",
       "      <th>DecisionTreeClassifier</th>\n",
       "      <td>0.766667</td>\n",
       "      <td>8.059154</td>\n",
       "    </tr>\n",
       "  </tbody>\n",
       "</table>\n",
       "</div>"
      ],
      "text/plain": [
       "                        Accuracy  Cross-entropy loss\n",
       "LogisticRegression      0.866667            4.605263\n",
       "KNeighborsClassifier    0.850000            5.180923\n",
       "SVM                     0.833333            5.756583\n",
       "DecisionTreeClassifier  0.766667            8.059154"
      ]
     },
     "execution_count": 312,
     "metadata": {},
     "output_type": "execute_result"
    }
   ],
   "source": [
    "model_metrics = pd.DataFrame({'Accuracy': [accuracy_score(y_test, y_pred_lr),accuracy_score(y_test, y_pred_knn),\n",
    "                                           accuracy_score(y_test, y_pred_svm),accuracy_score(y_test, y_pred_dtree)],\n",
    "                              'Cross-entropy loss': [log_loss(y_test, y_pred_lr),log_loss(y_test, y_pred_knn),\n",
    "                                                     log_loss(y_test, y_pred_svm),log_loss(y_test, y_pred_dtree)]},\n",
    "                              index = ['LogisticRegression', 'KNeighborsClassifier', 'SVM', 'DecisionTreeClassifier']) \n",
    "model_metrics"
   ]
  },
  {
   "cell_type": "code",
   "execution_count": 313,
   "metadata": {},
   "outputs": [
    {
     "data": {
      "image/png": "[encoded data removed]",
      "text/plain": [
       "<Figure size 1152x360 with 2 Axes>"
      ]
     },
     "metadata": {
      "needs_background": "light"
     },
     "output_type": "display_data"
    }
   ],
   "source": [
    "fig, ax = plt.subplots(1,1,figsize = (16,5))\n",
    "\n",
    "ax = sns.lineplot(data = model_metrics['Accuracy'], color = 'r')\n",
    "\n",
    "ax_new = ax.twinx()\n",
    "ax_new = sns.lineplot(data = model_metrics['Cross-entropy loss'])"
   ]
  },
  {
   "cell_type": "markdown",
   "metadata": {},
   "source": [
    "## Select model\n",
    "The above plot shows that LogisticRegression is the best model for training. Because it has the lowest cross-entropy loss and the highest accuracy between models."
   ]
  }
 ],
 "metadata": {
  "kernelspec": {
   "display_name": "Python 3",
   "language": "python",
   "name": "python3"
  },
  "language_info": {
   "codemirror_mode": {
    "name": "ipython",
    "version": 3
   },
   "file_extension": ".py",
   "mimetype": "text/x-python",
   "name": "python",
   "nbconvert_exporter": "python",
   "pygments_lexer": "ipython3",
   "version": "3.7.4"
  }
 },
 "nbformat": 4,
 "nbformat_minor": 2
}
